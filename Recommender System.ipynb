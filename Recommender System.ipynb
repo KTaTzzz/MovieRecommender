{
 "cells": [
  {
   "cell_type": "markdown",
   "metadata": {},
   "source": [
    "# Collaborative Filtering"
   ]
  },
  {
   "cell_type": "code",
   "execution_count": 10,
   "metadata": {},
   "outputs": [],
   "source": [
    "import surprise as sp\n",
    "import pandas as pd\n",
    "# read data\n",
    "rating_df = pd.read_csv('ratings.csv')\n",
    "\n",
    "# create surprise reader, rating ranges from 1 to 5\n",
    "reader = sp.Reader(rating_scale=(1, 5))\n",
    "\n",
    "# load the dataframe to surprise dataset\n",
    "# order: [user, movie, rating]\n",
    "data = sp.Dataset.load_from_df(rating_df[['UserID', 'MovieID', 'Rating']], reader)"
   ]
  },
  {
   "cell_type": "code",
   "execution_count": 48,
   "metadata": {},
   "outputs": [
    {
     "name": "stdout",
     "output_type": "stream",
     "text": [
      "Computing the msd similarity matrix...\n",
      "Done computing similarity matrix.\n"
     ]
    },
    {
     "data": {
      "text/plain": [
       "<surprise.prediction_algorithms.knns.KNNBasic at 0x183d08203c8>"
      ]
     },
     "execution_count": 48,
     "metadata": {},
     "output_type": "execute_result"
    }
   ],
   "source": [
    "# create an algorithm object\n",
    "# use the 10 nearest neighbors\n",
    "algo = sp.prediction_algorithms.knns.KNNBasic(k=10)"
   ]
  },
  {
   "cell_type": "code",
   "execution_count": null,
   "metadata": {},
   "outputs": [],
   "source": [
    "# fit the model\n",
    "algo.fit(data)"
   ]
  },
  {
   "cell_type": "markdown",
   "metadata": {},
   "source": [
    "Oops...what goes wrong? Oh, we need to do the train test split before passing the data!"
   ]
  },
  {
   "cell_type": "code",
   "execution_count": null,
   "metadata": {},
   "outputs": [],
   "source": [
    "# split the data into training and testing set\n",
    "train_data, test_data = sp.model_selection.train_test_split(data, test_size=0.1)\n",
    "# fit the algorithm using the data\n",
    "algo.fit(train_data)"
   ]
  },
  {
   "cell_type": "code",
   "execution_count": 49,
   "metadata": {},
   "outputs": [
    {
     "data": {
      "text/plain": [
       "array([  70, 3355, 3025, 3685, 3674, 3673, 3650, 3656, 3276, 3052],\n",
       "      dtype=int64)"
      ]
     },
     "execution_count": 49,
     "metadata": {},
     "output_type": "execute_result"
    }
   ],
   "source": [
    "import numpy as np\n",
    "# selecte the first user\n",
    "selected_user = 1\n",
    "# length of movie id\n",
    "n_movies = train_data.n_items\n",
    "# predient user i's rating for every movie\n",
    "ratings = []\n",
    "for i in range(n_movies):\n",
    "    pred = algo.estimate(selected_user, i)[0]\n",
    "    ratings.append(pred)\n",
    "# recommend the top 10 movies\n",
    "recom_movies = np.argsort([i for i in ratings])[-10:]\n",
    "# id of top 10 movies\n",
    "recom_movies"
   ]
  },
  {
   "cell_type": "code",
   "execution_count": 50,
   "metadata": {},
   "outputs": [
    {
     "data": {
      "text/html": [
       "<div>\n",
       "<style scoped>\n",
       "    .dataframe tbody tr th:only-of-type {\n",
       "        vertical-align: middle;\n",
       "    }\n",
       "\n",
       "    .dataframe tbody tr th {\n",
       "        vertical-align: top;\n",
       "    }\n",
       "\n",
       "    .dataframe thead th {\n",
       "        text-align: right;\n",
       "    }\n",
       "</style>\n",
       "<table border=\"1\" class=\"dataframe\">\n",
       "  <thead>\n",
       "    <tr style=\"text-align: right;\">\n",
       "      <th></th>\n",
       "      <th>MovieID</th>\n",
       "      <th>Title</th>\n",
       "      <th>Genres</th>\n",
       "    </tr>\n",
       "  </thead>\n",
       "  <tbody>\n",
       "    <tr>\n",
       "      <th>435</th>\n",
       "      <td>439</td>\n",
       "      <td>Dangerous Game (1993)</td>\n",
       "      <td>Drama</td>\n",
       "    </tr>\n",
       "    <tr>\n",
       "      <th>777</th>\n",
       "      <td>787</td>\n",
       "      <td>Gate of Heavenly Peace, The (1995)</td>\n",
       "      <td>Documentary</td>\n",
       "    </tr>\n",
       "    <tr>\n",
       "      <th>977</th>\n",
       "      <td>989</td>\n",
       "      <td>Schlafes Bruder (Brother of Sleep) (1995)</td>\n",
       "      <td>Drama</td>\n",
       "    </tr>\n",
       "    <tr>\n",
       "      <th>1762</th>\n",
       "      <td>1830</td>\n",
       "      <td>Follow the Bitch (1998)</td>\n",
       "      <td>Comedy</td>\n",
       "    </tr>\n",
       "    <tr>\n",
       "      <th>2789</th>\n",
       "      <td>2858</td>\n",
       "      <td>American Beauty (1999)</td>\n",
       "      <td>Comedy|Drama</td>\n",
       "    </tr>\n",
       "    <tr>\n",
       "      <th>3103</th>\n",
       "      <td>3172</td>\n",
       "      <td>Ulysses (Ulisse) (1954)</td>\n",
       "      <td>Adventure</td>\n",
       "    </tr>\n",
       "    <tr>\n",
       "      <th>3164</th>\n",
       "      <td>3233</td>\n",
       "      <td>Smashing Time (1967)</td>\n",
       "      <td>Comedy</td>\n",
       "    </tr>\n",
       "    <tr>\n",
       "      <th>3313</th>\n",
       "      <td>3382</td>\n",
       "      <td>Song of Freedom (1936)</td>\n",
       "      <td>Drama</td>\n",
       "    </tr>\n",
       "    <tr>\n",
       "      <th>3538</th>\n",
       "      <td>3607</td>\n",
       "      <td>One Little Indian (1973)</td>\n",
       "      <td>Comedy|Drama|Western</td>\n",
       "    </tr>\n",
       "    <tr>\n",
       "      <th>3811</th>\n",
       "      <td>3881</td>\n",
       "      <td>Bittersweet Motel (2000)</td>\n",
       "      <td>Documentary</td>\n",
       "    </tr>\n",
       "  </tbody>\n",
       "</table>\n",
       "</div>"
      ],
      "text/plain": [
       "      MovieID                                      Title                Genres\n",
       "435       439                      Dangerous Game (1993)                 Drama\n",
       "777       787         Gate of Heavenly Peace, The (1995)           Documentary\n",
       "977       989  Schlafes Bruder (Brother of Sleep) (1995)                 Drama\n",
       "1762     1830                    Follow the Bitch (1998)                Comedy\n",
       "2789     2858                     American Beauty (1999)          Comedy|Drama\n",
       "3103     3172                    Ulysses (Ulisse) (1954)             Adventure\n",
       "3164     3233                       Smashing Time (1967)                Comedy\n",
       "3313     3382                     Song of Freedom (1936)                 Drama\n",
       "3538     3607                   One Little Indian (1973)  Comedy|Drama|Western\n",
       "3811     3881                   Bittersweet Motel (2000)           Documentary"
      ]
     },
     "execution_count": 50,
     "metadata": {},
     "output_type": "execute_result"
    }
   ],
   "source": [
    "# convert surprise inner id to raw id\n",
    "raw_id = []\n",
    "for i in recom_movies:\n",
    "    raw_id.append(train_data.to_raw_iid(i))\n",
    "# view information of the recommended movies\n",
    "movie_df = pd.read_csv('movies.csv')\n",
    "movie_df[movie_df['MovieID'].isin(raw_id)]"
   ]
  },
  {
   "cell_type": "markdown",
   "metadata": {},
   "source": [
    "# Content-based Filtering"
   ]
  },
  {
   "cell_type": "code",
   "execution_count": 64,
   "metadata": {},
   "outputs": [],
   "source": [
    "from sklearn.feature_extraction.text import CountVectorizer\n",
    "# use genres as movie attributes\n",
    "count_vector = CountVectorizer(stop_words='english')\n",
    "# matrix of movie attributes\n",
    "movie_attr_mat = count_vector.fit_transform(movie_df['Genres'])"
   ]
  },
  {
   "cell_type": "code",
   "execution_count": 83,
   "metadata": {},
   "outputs": [],
   "source": [
    "# select a user as example\n",
    "selected_user = 1\n",
    "selected_rating = rating_df[rating_df['UserID']==selected_user]\n",
    "# filter out high rated movies\n",
    "selected_rating = selected_rating[selected_rating['Rating']>=4]\n",
    "# obtain movie ids\n",
    "encoding_of_rated_movies = (selected_rating.MovieID-1).values\n",
    "# use average movie attributes as user profile\n",
    "user_profile = movie_attr_mat[encoding_of_rated_movies]\n",
    "user_profile = np.mean(user_profile, axis=0)"
   ]
  },
  {
   "cell_type": "code",
   "execution_count": 106,
   "metadata": {},
   "outputs": [
    {
     "data": {
      "text/html": [
       "<div>\n",
       "<style scoped>\n",
       "    .dataframe tbody tr th:only-of-type {\n",
       "        vertical-align: middle;\n",
       "    }\n",
       "\n",
       "    .dataframe tbody tr th {\n",
       "        vertical-align: top;\n",
       "    }\n",
       "\n",
       "    .dataframe thead th {\n",
       "        text-align: right;\n",
       "    }\n",
       "</style>\n",
       "<table border=\"1\" class=\"dataframe\">\n",
       "  <thead>\n",
       "    <tr style=\"text-align: right;\">\n",
       "      <th></th>\n",
       "      <th>MovieID</th>\n",
       "      <th>Title</th>\n",
       "      <th>Genres</th>\n",
       "    </tr>\n",
       "  </thead>\n",
       "  <tbody>\n",
       "    <tr>\n",
       "      <th>352</th>\n",
       "      <td>356</td>\n",
       "      <td>Forrest Gump (1994)</td>\n",
       "      <td>Comedy|Romance|War</td>\n",
       "    </tr>\n",
       "    <tr>\n",
       "      <th>489</th>\n",
       "      <td>493</td>\n",
       "      <td>Menace II Society (1993)</td>\n",
       "      <td>Action|Crime|Drama</td>\n",
       "    </tr>\n",
       "    <tr>\n",
       "      <th>817</th>\n",
       "      <td>828</td>\n",
       "      <td>Adventures of Pinocchio, The (1996)</td>\n",
       "      <td>Adventure|Children's</td>\n",
       "    </tr>\n",
       "    <tr>\n",
       "      <th>1472</th>\n",
       "      <td>1504</td>\n",
       "      <td>Hollow Reed (1996)</td>\n",
       "      <td>Drama</td>\n",
       "    </tr>\n",
       "    <tr>\n",
       "      <th>1700</th>\n",
       "      <td>1753</td>\n",
       "      <td>Half Baked (1998)</td>\n",
       "      <td>Comedy</td>\n",
       "    </tr>\n",
       "    <tr>\n",
       "      <th>1928</th>\n",
       "      <td>1997</td>\n",
       "      <td>Exorcist, The (1973)</td>\n",
       "      <td>Horror</td>\n",
       "    </tr>\n",
       "    <tr>\n",
       "      <th>2034</th>\n",
       "      <td>2103</td>\n",
       "      <td>Tall Tale (1994)</td>\n",
       "      <td>Adventure|Children's</td>\n",
       "    </tr>\n",
       "    <tr>\n",
       "      <th>2125</th>\n",
       "      <td>2194</td>\n",
       "      <td>Untouchables, The (1987)</td>\n",
       "      <td>Action|Crime|Drama</td>\n",
       "    </tr>\n",
       "    <tr>\n",
       "      <th>2289</th>\n",
       "      <td>2358</td>\n",
       "      <td>Savior (1998)</td>\n",
       "      <td>Drama</td>\n",
       "    </tr>\n",
       "    <tr>\n",
       "      <th>2369</th>\n",
       "      <td>2438</td>\n",
       "      <td>Outside Ozona (1998)</td>\n",
       "      <td>Drama|Thriller</td>\n",
       "    </tr>\n",
       "  </tbody>\n",
       "</table>\n",
       "</div>"
      ],
      "text/plain": [
       "      MovieID                                Title                Genres\n",
       "352       356                  Forrest Gump (1994)    Comedy|Romance|War\n",
       "489       493             Menace II Society (1993)    Action|Crime|Drama\n",
       "817       828  Adventures of Pinocchio, The (1996)  Adventure|Children's\n",
       "1472     1504                   Hollow Reed (1996)                 Drama\n",
       "1700     1753                    Half Baked (1998)                Comedy\n",
       "1928     1997                 Exorcist, The (1973)                Horror\n",
       "2034     2103                     Tall Tale (1994)  Adventure|Children's\n",
       "2125     2194             Untouchables, The (1987)    Action|Crime|Drama\n",
       "2289     2358                        Savior (1998)                 Drama\n",
       "2369     2438                 Outside Ozona (1998)        Drama|Thriller"
      ]
     },
     "execution_count": 106,
     "metadata": {},
     "output_type": "execute_result"
    }
   ],
   "source": [
    "from sklearn.metrics.pairwise import cosine_similarity\n",
    "# compute cosine similarity between user profile and every movie\n",
    "sim_matrix = cosine_similarity(user_profile, movie_attr_mat)\n",
    "# convert to one-dimensional vector\n",
    "sim_vector = np.array(sim_matrix)[0]\n",
    "# recommend the 10 most similar movie\n",
    "recom_movies = np.argsort(sim_vector)[-10:]\n",
    "movie_df[movie_df['MovieID'].isin(recom_movies+1)]"
   ]
  },
  {
   "cell_type": "code",
   "execution_count": null,
   "metadata": {},
   "outputs": [],
   "source": []
  },
  {
   "cell_type": "code",
   "execution_count": null,
   "metadata": {},
   "outputs": [],
   "source": []
  },
  {
   "cell_type": "code",
   "execution_count": null,
   "metadata": {},
   "outputs": [],
   "source": []
  },
  {
   "cell_type": "code",
   "execution_count": null,
   "metadata": {},
   "outputs": [],
   "source": []
  }
 ],
 "metadata": {
  "kernelspec": {
   "display_name": "Python 3",
   "language": "python",
   "name": "python3"
  },
  "language_info": {
   "codemirror_mode": {
    "name": "ipython",
    "version": 3
   },
   "file_extension": ".py",
   "mimetype": "text/x-python",
   "name": "python",
   "nbconvert_exporter": "python",
   "pygments_lexer": "ipython3",
   "version": "3.7.6"
  }
 },
 "nbformat": 4,
 "nbformat_minor": 4
}
